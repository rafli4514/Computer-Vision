{
 "cells": [
  {
   "cell_type": "code",
   "execution_count": null,
   "id": "1f25f084",
   "metadata": {},
   "outputs": [
    {
     "ename": "",
     "evalue": "",
     "output_type": "error",
     "traceback": [
      "\u001b[1;31mRunning cells with 'Python 3.12.3' requires the ipykernel package.\n",
      "\u001b[1;31m<a href='command:jupyter.createPythonEnvAndSelectController'>Create a Python Environment</a> with the required packages.\n",
      "\u001b[1;31mOr install 'ipykernel' using the command: '/bin/python3 -m pip install ipykernel -U --user --force-reinstall'"
     ]
    }
   ],
   "source": [
    "import numpy as np\n",
    "import cv2 as cv\n",
    "from matplotlib import pylot as plt"
   ]
  },
  {
   "cell_type": "code",
   "execution_count": null,
   "id": "4c27a522",
   "metadata": {},
   "outputs": [],
   "source": [
    "file_path: str = \"Images/Screenshot 2025-03-11 091107.png\"\n",
    "\n",
    "img = cv.imread(file_path, cv.IMREAD_GRAYSCALE)\n",
    "        assert img is not None, \"file could not be read, check with os.path.exists()\"\n",
    "        edges = cv.Canny(img,100,200)"
   ]
  }
 ],
 "metadata": {
  "kernelspec": {
   "display_name": "Python 3",
   "language": "python",
   "name": "python3"
  },
  "language_info": {
   "name": "python",
   "version": "3.12.3"
  }
 },
 "nbformat": 4,
 "nbformat_minor": 5
}
