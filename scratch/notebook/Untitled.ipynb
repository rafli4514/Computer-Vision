{
 "cells": [
  {
   "cell_type": "code",
   "execution_count": 1,
   "id": "b169b079-a66d-421a-82de-fa2d266d0ada",
   "metadata": {},
   "outputs": [],
   "source": [
    "import os\n",
    "import numpy as np\n",
    "from PIL import Image"
   ]
  },
  {
   "cell_type": "code",
   "execution_count": null,
   "id": "b3252a5e-578b-4f21-bcb7-030ae265810a",
   "metadata": {},
   "outputs": [],
   "source": [
    "def mean_filtering_greyscale(file_path: str) -> None:\n",
    "    file_name = os.path.basename(file_path)\n",
    "    image = Image.open(file_path).convert('L') \n",
    "    \n",
    "    image_array = np.array(image, dtype=np.float32)\n",
    "    output = np.zeros_like(image_array)\n",
    "    \n",
    "    kernel = np.ones((3, 3)) / 9.0 \n",
    "    rows, cols = image_array.shape\n",
    "    pad_r, pad_c = 1, 1  \n",
    "    \n",
    "    for i in range(pad_r, rows - pad_r):\n",
    "        for j in range(pad_c, cols - pad_c):\n",
    "            total = 0.0\n",
    "            for k in range(-pad_r, pad_r + 1):\n",
    "                for l in range(-pad_c, pad_c + 1):\n",
    "                    kr = pad_r + k\n",
    "                    kc = pad_c + l\n",
    "                    total += image_array[i + k, j + l] * kernel[kr, kc]\n",
    "            output[i, j] = total \n",
    "    \n",
    "    output = np.clip(output, 0, 255).astype(np.uint8)\n",
    "    output_image = Image.fromarray(output)\n",
    "    \n",
    "    output_path = os.path.join('Images', 'Output', file_name)\n",
    "    os.makedirs(os.path.dirname(output_path), exist_ok=True)\n",
    "    output_image.save(output_path)\n",
    "    print(f\"Filtered grayscale image saved as {output_path}\")"
   ]
  }
 ],
 "metadata": {
  "kernelspec": {
   "display_name": "Python 3 (ipykernel)",
   "language": "python",
   "name": "python3"
  },
  "language_info": {
   "codemirror_mode": {
    "name": "ipython",
    "version": 3
   },
   "file_extension": ".py",
   "mimetype": "text/x-python",
   "name": "python",
   "nbconvert_exporter": "python",
   "pygments_lexer": "ipython3",
   "version": "3.12.3"
  }
 },
 "nbformat": 4,
 "nbformat_minor": 5
}
